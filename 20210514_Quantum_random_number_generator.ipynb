{
 "cells": [
  {
   "cell_type": "markdown",
   "id": "08c82bc6",
   "metadata": {},
   "source": [
    "# Quantum Random Number Generator (QRNG)"
   ]
  },
  {
   "cell_type": "markdown",
   "id": "c904b103",
   "metadata": {},
   "source": [
    "Random number generator in programming language is typically psuedo-random number generator, since it is actually deterministic. Let's try the code below:"
   ]
  },
  {
   "cell_type": "code",
   "execution_count": 19,
   "id": "4cdde105",
   "metadata": {},
   "outputs": [],
   "source": [
    "import numpy as np"
   ]
  },
  {
   "cell_type": "code",
   "execution_count": 41,
   "id": "2f5002bf",
   "metadata": {},
   "outputs": [
    {
     "name": "stdout",
     "output_type": "stream",
     "text": [
      "0.5118216247002567\n",
      "0.9504636963259353\n",
      "0.14415961271963373\n",
      "0.9486494471372439\n",
      "0.31183145201048545\n",
      "0.42332644897257565\n",
      "0.8277025938204418\n",
      "0.4091991363691613\n",
      "0.5495936876730595\n",
      "0.027559113243068367\n"
     ]
    }
   ],
   "source": [
    "rng = np.random.default_rng(seed = 1)\n",
    "for _ in range(10):\n",
    "    print(rng.random())"
   ]
  },
  {
   "cell_type": "markdown",
   "id": "93106229",
   "metadata": {},
   "source": [
    "I can tell your random number generator printed 0.511..., 0.950.., 0.144..., etc., which means you have the same result with mine, although `rng.random()` is supposed to give a <b>random</b> number. What's wrong? The key is that we fixed the seed, and with the same seed, the random number generator will look up the same table to generate random numbers. So our random number generator is <i>pseudo-</i>random, which means it imitates true one but it is not."
   ]
  },
  {
   "cell_type": "markdown",
   "id": "add6fdef",
   "metadata": {},
   "source": [
    "Quantum random number generator, on the other hand, relys on the fundamental principle of quantum mechanics, <b>the principle of quantum measurement.</b> If one perform quantum measurement with observable $\\hat{O}$ on a quantum state $|\\psi\\rangle$, You expect three things:\n",
    "\n",
    "1. the measurement result is one of the eigenvalues of $\\hat{0}$, say, $\\lambda_i$\n",
    "2. the probability of getting the result of $\\lambda_i$ is given by $|\\langle i|\\psi\\rangle|^2$, where $|i\\rangle$ is corresponding eigenstate of $\\lambda_i$\n",
    "3. once the measurement is done, the final state is collapsed into $|i\\rangle$.\n",
    "\n",
    "So if you prepare your quantum state as a superposition of more than one eigenstates, what state you will pick up after measurement is intrisically random, although you may know the probabilities!\n",
    "\n",
    "In this notebook, we will run measurments on various quantum state, and run quantum random generator with real quantum machine."
   ]
  },
  {
   "cell_type": "code",
   "execution_count": 23,
   "id": "49fa3f6b",
   "metadata": {},
   "outputs": [],
   "source": [
    "# import qiskit\n",
    "from qiskit import QuantumCircuit, execute, Aer, ClassicalRegister\n",
    "from qiskit.visualization import plot_histogram"
   ]
  },
  {
   "cell_type": "code",
   "execution_count": 45,
   "id": "ed0370bf",
   "metadata": {},
   "outputs": [
    {
     "data": {
      "image/png": "[encoded data removed]",
      "text/plain": [
       "<Figure size 357.679x144.48 with 1 Axes>"
      ]
     },
     "execution_count": 45,
     "metadata": {},
     "output_type": "execute_result"
    }
   ],
   "source": [
    "# create quantum circuit\n",
    "p = 0.5 # probabilty of having |1> state\n",
    "qc = QuantumCircuit(1)\n",
    "qc.initialize([np.sqrt(1-p), np.sqrt(p)],0)\n",
    "qc.measure_all()\n",
    "qc.draw()"
   ]
  },
  {
   "cell_type": "markdown",
   "id": "bc54ed2a",
   "metadata": {},
   "source": [
    "The circuit above initialize the qubit state to be [sqrt(1-p), sqrt(p)], so the probability of finding the state in 1 is p. Let's check this. "
   ]
  },
  {
   "cell_type": "code",
   "execution_count": 43,
   "id": "1845158d",
   "metadata": {},
   "outputs": [],
   "source": [
    "# use simulator first\n",
    "sim_backend = Aer.get_backend('qasm_simulator')"
   ]
  },
  {
   "cell_type": "code",
   "execution_count": 46,
   "id": "503b4972",
   "metadata": {},
   "outputs": [
    {
     "data": {
      "image/png": "[encoded data removed]",
      "text/plain": [
       "<Figure size 504x360 with 1 Axes>"
      ]
     },
     "execution_count": 46,
     "metadata": {},
     "output_type": "execute_result"
    }
   ],
   "source": [
    "# run job and check the result\n",
    "job = execute(qc, sim_backend, shots = 10000)\n",
    "result = job.result()\n",
    "plot_histogram(result.get_counts())"
   ]
  },
  {
   "cell_type": "markdown",
   "id": "0adcf037",
   "metadata": {},
   "source": [
    "So it seems consistent, but it is still using pseudo-randomness of the simulator. Let's try the real quantum machine"
   ]
  },
  {
   "cell_type": "code",
   "execution_count": 3,
   "id": "01483fb9",
   "metadata": {},
   "outputs": [],
   "source": [
    "# provider\n",
    "from qiskit import IBMQ"
   ]
  },
  {
   "cell_type": "code",
   "execution_count": 4,
   "id": "fa3a5b27",
   "metadata": {},
   "outputs": [],
   "source": [
    "# use your token here\n",
    "my_token = ''"
   ]
  },
  {
   "cell_type": "code",
   "execution_count": 5,
   "id": "78ec9ccc",
   "metadata": {},
   "outputs": [],
   "source": [
    "provider = IBMQ.enable_account(my_token)"
   ]
  },
  {
   "cell_type": "code",
   "execution_count": 6,
   "id": "be093ede",
   "metadata": {},
   "outputs": [
    {
     "data": {
      "text/plain": [
       "<AccountProvider for IBMQ(hub='ibm-q-skku', group='skku', project='saint')>"
      ]
     },
     "execution_count": 6,
     "metadata": {},
     "output_type": "execute_result"
    }
   ],
   "source": [
    "IBMQ.get_provider(hub='ibm-q-skku', group='skku', project='saint') # SKKU is IBM quantum hub!"
   ]
  },
  {
   "cell_type": "code",
   "execution_count": 7,
   "id": "5ec6b0a8",
   "metadata": {},
   "outputs": [],
   "source": [
    "backend_single_qubit = provider.get_backend('ibmq_armonk') # just choose any machine not busy! we only need a single qubit."
   ]
  },
  {
   "cell_type": "code",
   "execution_count": 47,
   "id": "aebf8c7c",
   "metadata": {},
   "outputs": [],
   "source": [
    "# run job and check the result\n",
    "job_single_qubit = execute(qc, backend_single_qubit, shots = 1000)"
   ]
  },
  {
   "cell_type": "code",
   "execution_count": 48,
   "id": "dcf18d91",
   "metadata": {},
   "outputs": [
    {
     "data": {
      "text/plain": [
       "<JobStatus.RUNNING: 'job is actively running'>"
      ]
     },
     "execution_count": 48,
     "metadata": {},
     "output_type": "execute_result"
    }
   ],
   "source": [
    "job_single_qubit.status()"
   ]
  },
  {
   "cell_type": "code",
   "execution_count": 49,
   "id": "73c5a88f",
   "metadata": {},
   "outputs": [
    {
     "data": {
      "image/png": "[encoded data removed]",
      "text/plain": [
       "<Figure size 504x360 with 1 Axes>"
      ]
     },
     "execution_count": 49,
     "metadata": {},
     "output_type": "execute_result"
    }
   ],
   "source": [
    "result = job_single_qubit.result()\n",
    "plot_histogram(result.get_counts())"
   ]
  },
  {
   "cell_type": "markdown",
   "id": "5599c8e5",
   "metadata": {},
   "source": [
    "With a random number generator, we expect that every output has equal probability, i.e. $p=0.5$. Such a action can be replaced with <i>Hadamard gate</i>, which maps 0 and 1 states into + and - states. To generate N-bit binary random value with QRNG, We need more than single bit. \n",
    "Let's create QRNG circuit with given bit number. if you want to have $N$ different outputs, you will need $log_2 N$ qubits."
   ]
  },
  {
   "cell_type": "code",
   "execution_count": 33,
   "id": "f510f823",
   "metadata": {},
   "outputs": [],
   "source": [
    "def qrng(bit_number:int):\n",
    "    assert bit_number > 0 & isinstance(bit_number, int)\n",
    "    qc = QuantumCircuit(bit_number)\n",
    "    for i in range(bit_number):\n",
    "        qc.h(i)\n",
    "    qc.measure_all()\n",
    "    return qc"
   ]
  },
  {
   "cell_type": "code",
   "execution_count": 14,
   "id": "62fc8976",
   "metadata": {},
   "outputs": [
    {
     "data": {
      "image/png": "[encoded data removed]",
      "text/plain": [
       "<Figure size 538.279x385.28 with 1 Axes>"
      ]
     },
     "execution_count": 14,
     "metadata": {},
     "output_type": "execute_result"
    }
   ],
   "source": [
    "qc = qrng(5)\n",
    "qc.draw()"
   ]
  },
  {
   "cell_type": "code",
   "execution_count": 12,
   "id": "01f2f1e3",
   "metadata": {},
   "outputs": [],
   "source": [
    "backend = provider.get_backend('ibmq_16_melbourne') # choose a machine with sufficient qubit number"
   ]
  },
  {
   "cell_type": "code",
   "execution_count": 15,
   "id": "c0aee0ab",
   "metadata": {},
   "outputs": [],
   "source": [
    "# run job and check the result\n",
    "job_qrng = execute(qc, backend, shots = 8192)"
   ]
  },
  {
   "cell_type": "code",
   "execution_count": 35,
   "id": "9881d12e",
   "metadata": {},
   "outputs": [
    {
     "data": {
      "text/plain": [
       "<JobStatus.DONE: 'job has successfully run'>"
      ]
     },
     "execution_count": 35,
     "metadata": {},
     "output_type": "execute_result"
    }
   ],
   "source": [
    "job_qrng.status()"
   ]
  },
  {
   "cell_type": "code",
   "execution_count": 36,
   "id": "69371f68",
   "metadata": {
    "scrolled": false
   },
   "outputs": [
    {
     "data": {
      "image/png": "[encoded data removed]",
      "text/plain": [
       "<Figure size 504x360 with 1 Axes>"
      ]
     },
     "execution_count": 36,
     "metadata": {},
     "output_type": "execute_result"
    }
   ],
   "source": [
    "result = job_qrng.result()\n",
    "plot_histogram(result.get_counts())"
   ]
  },
  {
   "cell_type": "code",
   "execution_count": 37,
   "id": "7fa49d4f",
   "metadata": {
    "scrolled": true
   },
   "outputs": [
    {
     "data": {
      "text/plain": [
       "0.03125"
      ]
     },
     "execution_count": 37,
     "metadata": {},
     "output_type": "execute_result"
    }
   ],
   "source": [
    "1/32"
   ]
  },
  {
   "cell_type": "markdown",
   "id": "c9e87a5a",
   "metadata": {},
   "source": [
    "## Draw!"
   ]
  },
  {
   "cell_type": "code",
   "execution_count": 50,
   "id": "ae78fcea",
   "metadata": {},
   "outputs": [],
   "source": [
    "qc = qrng(6)"
   ]
  },
  {
   "cell_type": "code",
   "execution_count": 54,
   "id": "f77373b6",
   "metadata": {},
   "outputs": [
    {
     "data": {
      "image/png": "[encoded data removed]",
      "text/plain": [
       "<Figure size 598.479x445.48 with 1 Axes>"
      ]
     },
     "execution_count": 54,
     "metadata": {},
     "output_type": "execute_result"
    }
   ],
   "source": [
    "qc.draw()"
   ]
  },
  {
   "cell_type": "code",
   "execution_count": 52,
   "id": "cd2002e8",
   "metadata": {},
   "outputs": [],
   "source": [
    "job_hoodie = execute(qc, backend, shots = 1)\n",
    "job_shirts = execute(qc, backend, shots = 2)\n",
    "job_starbucks = execute(qc, backend, shots = 5)\n",
    "jobs = [job_hoodie, job_shirts, job_starbucks]"
   ]
  },
  {
   "cell_type": "markdown",
   "id": "d90bb017",
   "metadata": {},
   "source": [
    "스벅 아이스 아메리카노 5명"
   ]
  },
  {
   "cell_type": "code",
   "execution_count": 59,
   "id": "41d36ffa",
   "metadata": {
    "scrolled": true
   },
   "outputs": [
    {
     "name": "stdout",
     "output_type": "stream",
     "text": [
      "24\n",
      "0\n",
      "11\n",
      "13\n",
      "13\n"
     ]
    }
   ],
   "source": [
    "counts = job_starbucks.result().get_counts()\n",
    "for key in counts.keys():\n",
    "    print(int(key, 2)%45)"
   ]
  },
  {
   "cell_type": "code",
   "execution_count": 61,
   "id": "500584d8",
   "metadata": {},
   "outputs": [],
   "source": [
    "job_starbucks_re = execute(qc, backend, shots = 1)"
   ]
  },
  {
   "cell_type": "code",
   "execution_count": 65,
   "id": "72850a6b",
   "metadata": {
    "scrolled": true
   },
   "outputs": [
    {
     "data": {
      "text/plain": [
       "<JobStatus.DONE: 'job has successfully run'>"
      ]
     },
     "execution_count": 65,
     "metadata": {},
     "output_type": "execute_result"
    }
   ],
   "source": [
    "job_starbucks_re.status()"
   ]
  },
  {
   "cell_type": "code",
   "execution_count": 66,
   "id": "859841bf",
   "metadata": {},
   "outputs": [
    {
     "name": "stdout",
     "output_type": "stream",
     "text": [
      "27\n"
     ]
    }
   ],
   "source": [
    "counts = job_starbucks_re.result().get_counts()\n",
    "for key in counts.keys():\n",
    "    print(int(key, 2)%45)"
   ]
  },
  {
   "cell_type": "code",
   "execution_count": 63,
   "id": "771b738a",
   "metadata": {},
   "outputs": [],
   "source": [
    "job_starbucks_re2 = execute(qc, backend, shots = 1)"
   ]
  },
  {
   "cell_type": "markdown",
   "id": "c9ee7752",
   "metadata": {},
   "source": [
    "아이온큐 티셔츠 2명"
   ]
  },
  {
   "cell_type": "code",
   "execution_count": 60,
   "id": "b0242630",
   "metadata": {
    "scrolled": true
   },
   "outputs": [
    {
     "name": "stdout",
     "output_type": "stream",
     "text": [
      "32\n",
      "7\n"
     ]
    }
   ],
   "source": [
    "counts = job_shirts.result().get_counts()\n",
    "for key in counts.keys():\n",
    "    print(int(key, 2)%45)"
   ]
  },
  {
   "cell_type": "markdown",
   "id": "68078a0a",
   "metadata": {},
   "source": [
    "아이온큐 후드티 1명"
   ]
  },
  {
   "cell_type": "code",
   "execution_count": 57,
   "id": "199613ed",
   "metadata": {},
   "outputs": [
    {
     "name": "stdout",
     "output_type": "stream",
     "text": [
      "25\n"
     ]
    }
   ],
   "source": [
    "counts = job_hoodie.result().get_counts()\n",
    "for key in counts.keys():\n",
    "    print(int(key, 2))"
   ]
  }
 ],
 "metadata": {
  "kernelspec": {
   "display_name": "Python 3",
   "language": "python",
   "name": "python3"
  },
  "language_info": {
   "codemirror_mode": {
    "name": "ipython",
    "version": 3
   },
   "file_extension": ".py",
   "mimetype": "text/x-python",
   "name": "python",
   "nbconvert_exporter": "python",
   "pygments_lexer": "ipython3",
   "version": "3.8.8"
  }
 },
 "nbformat": 4,
 "nbformat_minor": 5
}
